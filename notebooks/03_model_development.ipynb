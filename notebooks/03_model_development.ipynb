# notebooks/03_model_development.ipynb

import sys
sys.path.append('../src')

from data.loading import MassSpecDataLoader
from features.peak_detection import PeakDetector
from features.feature_engineering import FeatureEngineer
from models.element_predictor import ElementPredictor
from models.molecule_predictor import MoleculePredictor
import pandas as pd
import numpy as np

# Load data
data_loader = MassSpecDataLoader('../data/raw')
spectra_data = data_loader.load_batch('*.mzML')

# Detect peaks
peak_detector = PeakDetector(min_height=0.01, prominence=0.01)
processed_spectra = []
for file_name, spectra in spectra_data.items():
    peaks = peak_detector.process_spectra(spectra)
    for peak_data in peaks:
        peak_data['file_name'] = file_name
        processed_spectra.append(peak_data)

# Extract features
feature_engineer = FeatureEngineer()
features_df = feature_engineer.extract_features(processed_spectra)

# Load ground truth data (example)
elements_df = pd.read_csv('../data/external/element_labels.csv')
molecules_df = pd.read_csv('../data/external/molecule_labels.csv')

# Train element predictor
element_predictor = ElementPredictor()
X_elements, y_elements = element_predictor.prepare_data(features_df, elements_df)
element_results = element_predictor.train(X_elements, y_elements, tune_hyperparameters=True)

# Save model
element_predictor.save_model('../results/models/element_predictor.pkl')

# Train molecule predictor
molecule_predictor = MoleculePredictor()
X_molecules, y_molecules = molecule_predictor.prepare_data(features_df, molecules_df)
molecule_results = molecule_predictor.train(X_molecules, y_molecules, epochs=50)

# Save model
molecule_predictor.save_model('../results/models/molecule_predictor.h5')

# Example prediction
new_spectra = data_loader.load_mzml('../data/raw/test_sample.mzML')
new_peaks = peak_detector.process_spectra(new_spectra)
new_features = feature_engineer.extract_features(new_peaks)

# Predict elements
element_predictions = element_predictor.predict(new_features)
element_probabilities = element_predictor.predict_proba(new_features)

# Predict molecules
molecule_predictions = molecule_predictor.predict(new_features)
molecule_probabilities = molecule_predictor.predict_proba(new_features)

# Display results
print("Element Predictions:")
for i, spectrum_id in enumerate(new_features['spectrum_id']):
    print(f"Spectrum {spectrum_id}:")
    for j, element in enumerate(element_predictor.element_labels):
        if element_predictions[i, j] == 1:
            print(f"  {element}: {element_probabilities[j][i][1]:.2f}")

print("\nMolecule Predictions:")
for i, spectrum_id in enumerate(new_features['spectrum_id']):
    print(f"Spectrum {spectrum_id}:")
    predicted_molecules = molecule_predictor.mlb.inverse_transform(molecule_predictions[i:i+1])[0]
    for j, molecule in enumerate(predicted_molecules):
        mol_idx = np.where(molecule_predictor.molecule_labels == molecule)[0][0]
        print(f"  {molecule}: {molecule_probabilities[i][mol_idx]:.2f}")
